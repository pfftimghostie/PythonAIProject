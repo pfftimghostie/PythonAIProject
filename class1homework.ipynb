{
  "nbformat": 4,
  "nbformat_minor": 0,
  "metadata": {
    "colab": {
      "provenance": [],
      "toc_visible": true
    },
    "kernelspec": {
      "name": "python3",
      "display_name": "Python 3"
    },
    "language_info": {
      "name": "python"
    }
  },
  "cells": [
    {
      "cell_type": "code",
      "execution_count": 36,
      "metadata": {
        "colab": {
          "base_uri": "https://localhost:8080/"
        },
        "collapsed": true,
        "id": "v-tOvoH33x53",
        "outputId": "485146e3-1b25-41d5-f4c2-4d98f7f6558b"
      },
      "outputs": [
        {
          "output_type": "stream",
          "name": "stdout",
          "text": [
            "12\n",
            "-2\n",
            "35\n"
          ]
        }
      ],
      "source": [
        "#defining the variables\n",
        "x = 5\n",
        "y = 7\n",
        "#sum\n",
        "print(x + y)\n",
        "#difference\n",
        "print(x - y)\n",
        "#product\n",
        "print(x * y)"
      ]
    },
    {
      "cell_type": "code",
      "source": [
        "#setting the array\n",
        "array = [3, 5, 12, 39, 51]\n",
        "for i in range(5):\n",
        "  #decides if its even\n",
        "  if array[i]%2 == 0:\n",
        "    print(\"even\")\n",
        "  #odd\n",
        "  else:\n",
        "    print(\"odd\")"
      ],
      "metadata": {
        "colab": {
          "base_uri": "https://localhost:8080/"
        },
        "collapsed": true,
        "id": "XDe6xi7O9A6K",
        "outputId": "74ad840f-bfd8-4ae5-817d-1abe9dad0f15"
      },
      "execution_count": 38,
      "outputs": [
        {
          "output_type": "stream",
          "name": "stdout",
          "text": [
            "odd\n",
            "odd\n",
            "even\n",
            "odd\n",
            "odd\n"
          ]
        }
      ]
    },
    {
      "cell_type": "code",
      "source": [
        "#defines list1\n",
        "list1 = [1050, 39, 4]\n",
        "#sorts the list into least to greatest order\n",
        "ordered_numbers = sorted(list1)\n",
        "print(ordered_numbers)"
      ],
      "metadata": {
        "colab": {
          "base_uri": "https://localhost:8080/"
        },
        "collapsed": true,
        "id": "0A4TtWWg9EAe",
        "outputId": "a9936cb0-a998-4c75-efb8-13e4c46ae66b"
      },
      "execution_count": 39,
      "outputs": [
        {
          "output_type": "stream",
          "name": "stdout",
          "text": [
            "[4, 39, 1050]\n"
          ]
        }
      ]
    },
    {
      "cell_type": "code",
      "source": [
        "#defines z\n",
        "z = 11\n",
        "for i in range(10):\n",
        "  print(z - 1)\n",
        "  #updates the variable\n",
        "  z = z - 1"
      ],
      "metadata": {
        "colab": {
          "base_uri": "https://localhost:8080/"
        },
        "collapsed": true,
        "id": "6Yvin5t29Gy0",
        "outputId": "9ea92a64-0c77-49a4-9e80-aab0728651ce"
      },
      "execution_count": 31,
      "outputs": [
        {
          "output_type": "stream",
          "name": "stdout",
          "text": [
            "10\n",
            "9\n",
            "8\n",
            "7\n",
            "6\n",
            "5\n",
            "4\n",
            "3\n",
            "2\n",
            "1\n"
          ]
        }
      ]
    },
    {
      "cell_type": "code",
      "source": [
        "#beginning amount\n",
        "total = 0\n",
        "#sets the search area up to 100\n",
        "for num in range(1, 101):\n",
        "  #decides if it is divisible by 3 or 5\n",
        "  if num % 3 == 0 or num % 5 == 0:\n",
        "    total += num\n",
        "print(total)"
      ],
      "metadata": {
        "colab": {
          "base_uri": "https://localhost:8080/"
        },
        "collapsed": true,
        "id": "iKrIf04_9I-A",
        "outputId": "0901509d-df59-473d-cfb2-fad915589025"
      },
      "execution_count": 42,
      "outputs": [
        {
          "output_type": "stream",
          "name": "stdout",
          "text": [
            "2418\n"
          ]
        }
      ]
    },
    {
      "cell_type": "code",
      "source": [
        "#sets the string\n",
        "string = [\"hi\", \"my\", \"favorite\", \"animal\", \"is\", \"cats\"]\n",
        "for i in string:\n",
        "  #searches for even characters\n",
        "  even = i[1::2]\n",
        "  print(f\"Even characters in {i}: {even}\")"
      ],
      "metadata": {
        "colab": {
          "base_uri": "https://localhost:8080/"
        },
        "collapsed": true,
        "id": "rt-p_BKD9LLw",
        "outputId": "824601d6-673e-4f88-b70d-78b601d00dd7"
      },
      "execution_count": 45,
      "outputs": [
        {
          "output_type": "stream",
          "name": "stdout",
          "text": [
            "Even characters in hi: i\n",
            "Even characters in my: y\n",
            "Even characters in favorite: aoie\n",
            "Even characters in animal: nml\n",
            "Even characters in is: s\n",
            "Even characters in cats: as\n"
          ]
        }
      ]
    },
    {
      "cell_type": "code",
      "source": [
        "#sets up string 2\n",
        "string2 = [\"I\", \"like\", \"video\", \"games\"]\n"
      ],
      "metadata": {
        "id": "I1x62e799OLK"
      },
      "execution_count": 25,
      "outputs": []
    }
  ]
}