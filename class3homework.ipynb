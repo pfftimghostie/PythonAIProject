{
  "nbformat": 4,
  "nbformat_minor": 0,
  "metadata": {
    "colab": {
      "provenance": []
    },
    "kernelspec": {
      "name": "python3",
      "display_name": "Python 3"
    },
    "language_info": {
      "name": "python"
    }
  },
  "cells": [
    {
      "cell_type": "code",
      "source": [
        "#installs numpy for prompts 5, 6, 7\n",
        "!pip install numpy"
      ],
      "metadata": {
        "colab": {
          "base_uri": "https://localhost:8080/"
        },
        "id": "_4u11483fMul",
        "outputId": "3a5ba029-523f-4a4d-9af4-e56ff65c382e"
      },
      "execution_count": 69,
      "outputs": [
        {
          "output_type": "stream",
          "name": "stdout",
          "text": [
            "Requirement already satisfied: numpy in /usr/local/lib/python3.11/dist-packages (2.0.2)\n"
          ]
        }
      ]
    },
    {
      "cell_type": "code",
      "source": [
        "#imports numpy\n",
        "import numpy"
      ],
      "metadata": {
        "id": "-7rqQ66nfM4C"
      },
      "execution_count": 70,
      "outputs": []
    },
    {
      "cell_type": "code",
      "source": [
        "#imports math for prompts 3, 7\n",
        "import math"
      ],
      "metadata": {
        "id": "w_HSvb2xvljH"
      },
      "execution_count": 71,
      "outputs": []
    },
    {
      "cell_type": "code",
      "execution_count": 72,
      "metadata": {
        "colab": {
          "base_uri": "https://localhost:8080/"
        },
        "id": "lPljxHUleR1h",
        "outputId": "71ecf51f-2ad0-4c46-d481-9868dc88d64d"
      },
      "outputs": [
        {
          "output_type": "stream",
          "name": "stdout",
          "text": [
            "Farenheit temperatures: [10, 70, 98, 50]\n",
            "Celcius temperatures:[-12.222222222222221, 21.11111111111111, 36.666666666666664, 10.0]\n"
          ]
        }
      ],
      "source": [
        "\"\"\"\n",
        "1. Create a function that converts a list of Fahrenheit temperatures\n",
        "to Celsius and returns the list of the resulting temperatures.\n",
        "\"\"\"\n",
        "def fahrenheittocelsiuslist(fahrenheittemperatures):\n",
        "  celsiustemperatures = []\n",
        "  #conversion from fahrenheit to celcius\n",
        "  for tempf in fahrenheittemperatures:\n",
        "      tempc = (tempf - 32) * 5/9\n",
        "      #applies to fahrenheit conversion to the list\n",
        "      celsiustemperatures.append(tempc)\n",
        "  #returns converted temperatures\n",
        "  return celsiustemperatures\n",
        "fahrenheittemps = [10, 70, 98, 50]\n",
        "celsiustemps = fahrenheittocelsiuslist(fahrenheittemps)\n",
        "#prints original list and converted list\n",
        "print(f\"Farenheit temperatures: {fahrenheittemps}\")\n",
        "print(f\"Celcius temperatures:{celsiustemps}\")"
      ]
    },
    {
      "cell_type": "code",
      "source": [
        "\"\"\"\n",
        "2. Create a function that returns the second-smallest and\n",
        "second-largest numbers in a list.\n",
        "\"\"\"\n",
        "#defines function\n",
        "def findsecondsmallestandlargest(numbers):\n",
        "  #checks if list has less than two numbers\n",
        "  #if only two, return no numbers\n",
        "  if len(numbers) < 2:\n",
        "    return None, None\n",
        "  #removes duplicate numbers\n",
        "  #sorts the list into ascending order\n",
        "  uniquenumbers = sorted(list(set(numbers)))\n",
        "  if len(uniquenumbers) < 2:\n",
        "    return None, None\n",
        "  #second smallest number is at index 1 of the sorted list\n",
        "    #it's at index 1 because python's first number in a sorted list is index 0\n",
        "  #second largest number is at index -2 of the sorted list\n",
        "  return uniquenumbers[1], uniquenumbers[-2]\n",
        "#list\n",
        "numbers = [1, 1384, 228, 49, 72, 996, -25, 18888, 2000000, 7, -745]\n",
        "secondsmallest, secondlargest = findsecondsmallestandlargest(numbers)\n",
        "#prints responses\n",
        "print(numbers)\n",
        "print(f\"Second smallest: {secondsmallest}\")\n",
        "print(f\"Second largest: {secondlargest}\")"
      ],
      "metadata": {
        "colab": {
          "base_uri": "https://localhost:8080/"
        },
        "id": "QdJW07B3idY1",
        "outputId": "ae74b883-7354-4e67-9e42-1599a91128e1"
      },
      "execution_count": 73,
      "outputs": [
        {
          "output_type": "stream",
          "name": "stdout",
          "text": [
            "[1, 1384, 228, 49, 72, 996, -25, 18888, 2000000, 7, -745]\n",
            "Second smallest: -25\n",
            "Second largest: 18888\n"
          ]
        }
      ]
    },
    {
      "cell_type": "code",
      "source": [
        "\"\"\"\n",
        "3. Create a 2D point class with an x and y, and a function that\n",
        "returns the distance from the point to the origin.\n",
        "\"\"\"\n",
        "class Point2D:\n",
        "    #sets point in 2D space\n",
        "    def __init__(self, x, y):\n",
        "    #assigns to x and y coordinates\n",
        "      self.x = x\n",
        "      self.y = y\n",
        "    #solves for hypotenuse\n",
        "    def distance_from_origin(self):\n",
        "      return math.sqrt(self.x**2 + self.y**2)\n",
        "# Example Usage\n",
        "if __name__ == \"__main__\":\n",
        "  #point 1 coordinates\n",
        "  point1 = Point2D(7, -7)\n",
        "  #prints out coordinates and distance from origin (0, 0)\n",
        "  print(f\"Point 1 coordinates: ({point1.x}, {point1.y})\")\n",
        "  print(f\"Distance of Point 1 from origin: {point1.distance_from_origin()}\")\n",
        "  #point 2 coordinates\n",
        "  point2 = Point2D(-3, -9)\n",
        "  print(f\"Point 2 coordinates: ({point2.x}, {point2.y})\")\n",
        "  print(f\"Distance of Point 2 from origin: {point2.distance_from_origin()}\")"
      ],
      "metadata": {
        "colab": {
          "base_uri": "https://localhost:8080/"
        },
        "id": "3XmqaZKKlo0g",
        "outputId": "3e65e845-cd07-435c-daba-e91216acecf6"
      },
      "execution_count": 74,
      "outputs": [
        {
          "output_type": "stream",
          "name": "stdout",
          "text": [
            "Point 1 coordinates: (7, -7)\n",
            "Distance of Point 1 from origin: 9.899494936611665\n",
            "Point 2 coordinates: (-3, -9)\n",
            "Distance of Point 2 from origin: 9.486832980505138\n"
          ]
        }
      ]
    },
    {
      "cell_type": "code",
      "source": [
        "\"\"\"\n",
        "4. Create a basic chess piece class with its position(use two numbers\n",
        "instead of a letter and number) and color. Then create rook, bishop,\n",
        "and queen subclasses, adding a moves function that returns a list of\n",
        "possible moves based on its position.\n",
        "\"\"\"\n",
        "#I didn't really understand what to do for this-"
      ],
      "metadata": {
        "colab": {
          "base_uri": "https://localhost:8080/",
          "height": 53
        },
        "id": "wLZpBA_plo94",
        "outputId": "5aef7bac-190f-4671-8b8f-47cac36c3b2f"
      },
      "execution_count": 75,
      "outputs": [
        {
          "output_type": "execute_result",
          "data": {
            "text/plain": [
              "'\\n4. Create a basic chess piece class with its position(use two numbers\\ninstead of a letter and number) and color. Then create rook, bishop,\\nand queen subclasses, adding a moves function that returns a list of\\npossible moves based on its position.\\n'"
            ],
            "application/vnd.google.colaboratory.intrinsic+json": {
              "type": "string"
            }
          },
          "metadata": {},
          "execution_count": 75
        }
      ]
    },
    {
      "cell_type": "code",
      "source": [
        "\"\"\"\n",
        "5. Create a 6 x 6 numpy array of 0s and change a diagonal to 1s.\n",
        "\"\"\"\n",
        "!pip install numpy\n",
        "import numpy #for some reason it would produce an error if i didn't install and import numpy into the code again\n",
        "#creates a 6x6 numpy array filled with zeros\n",
        "array = numpy.zeros((6, 6))\n",
        "#changes the diagonal to 1\n",
        "numpy.fill_diagonal(array, 1)\n",
        "#prints the array\n",
        "print(array)"
      ],
      "metadata": {
        "colab": {
          "base_uri": "https://localhost:8080/"
        },
        "id": "JRxB9FKolq5L",
        "outputId": "ee5168a7-ab06-45fd-c7f7-8720195febed"
      },
      "execution_count": 76,
      "outputs": [
        {
          "output_type": "stream",
          "name": "stdout",
          "text": [
            "Requirement already satisfied: numpy in /usr/local/lib/python3.11/dist-packages (2.0.2)\n",
            "[[1. 0. 0. 0. 0. 0.]\n",
            " [0. 1. 0. 0. 0. 0.]\n",
            " [0. 0. 1. 0. 0. 0.]\n",
            " [0. 0. 0. 1. 0. 0.]\n",
            " [0. 0. 0. 0. 1. 0.]\n",
            " [0. 0. 0. 0. 0. 1.]]\n"
          ]
        }
      ]
    },
    {
      "cell_type": "code",
      "source": [
        "\"\"\"\n",
        "6. Create a numpy array of numbers from 1-100, then change every other\n",
        "odd to -1.\n",
        "\"\"\"\n",
        "#creates a numpy array of numbers from 1 to 100\n",
        "array = numpy.arange(1, 101)\n",
        "#searches and identifies odd numbers\n",
        "odd = numpy.where(array % 2 == 1)[0]\n",
        "#change every other odd number to -1\n",
        "#uses slicing with a step of 2 to select every other value from the odd\n",
        "array[odd[::2]] = -1\n",
        "print(array)"
      ],
      "metadata": {
        "colab": {
          "base_uri": "https://localhost:8080/"
        },
        "id": "W53cvcUelrYP",
        "outputId": "475ffa63-d8e8-47d8-99ca-185eba6d3e27"
      },
      "execution_count": 83,
      "outputs": [
        {
          "output_type": "stream",
          "name": "stdout",
          "text": [
            "[ -1   2   3   4  -1   6   7   8  -1  10  11  12  -1  14  15  16  -1  18\n",
            "  19  20  -1  22  23  24  -1  26  27  28  -1  30  31  32  -1  34  35  36\n",
            "  -1  38  39  40  -1  42  43  44  -1  46  47  48  -1  50  51  52  -1  54\n",
            "  55  56  -1  58  59  60  -1  62  63  64  -1  66  67  68  -1  70  71  72\n",
            "  -1  74  75  76  -1  78  79  80  -1  82  83  84  -1  86  87  88  -1  90\n",
            "  91  92  -1  94  95  96  -1  98  99 100]\n"
          ]
        }
      ]
    },
    {
      "cell_type": "code",
      "source": [
        "\"\"\"\n",
        "7. Create a 3d PointCloud class, which stores any number of 3D points\n",
        "in an array. Provide functions to add new points, remove points, and\n",
        "find the closest point to an input point.\n",
        "\"\"\"\n",
        "#imports math\n",
        "import math\n",
        "#class to represent pointcloud\n",
        "class PointCloud:\n",
        "    #initialzes pointcloud\n",
        "    def __init__(self, points=None):\n",
        "        if points is None:\n",
        "            self.points = numpy.empty((0, 3))\n",
        "        else:\n",
        "            self.points = numpy.array(points)\n",
        "            if self.points.ndim != 2 or self.points.shape[1] != 3:\n",
        "                raise ValueError(\"Invalid\")\n",
        "    #adds one point\n",
        "    def add_point(self, point):\n",
        "        if not isinstance(point, (list, tuple)) or len(point) != 3:\n",
        "            #if value is invalid:\n",
        "            raise ValueError(\"Invalid\")\n",
        "        self.points = numpy.vstack((self.points, np.array(point).reshape(1, 3)))\n",
        "    #adds multiple points\n",
        "    def add_points(self, points):\n",
        "        new_points = numpy.array(points)\n",
        "        if new_points.ndim != 2 or new_points.shape[1] != 3:\n",
        "            #if value is invalid\n",
        "            raise ValueError(\"Invalid\")\n",
        "        self.points = numpy.vstack((self.points, new_points))\n",
        "    #removes one point\n",
        "    def remove_point(self, index):\n",
        "        if not isinstance(index, int) or index < 0 or index >= len(self.points):\n",
        "            #if index is invalid:\n",
        "            raise IndexError(\"Invalid\")\n",
        "        self.points = numpy.delete(self.points, index, axis=0)\n",
        "    #removes multiple points\n",
        "    def remove_points(self, indices):\n",
        "        indices = numpy.array(indices)\n",
        "        if not all(isinstance(i, int) and 0 <= i < len(self.points) for i in indices):\n",
        "            #if index is invalid:\n",
        "            raise IndexError(\"Invalid\")\n",
        "        self.points = numyp.delete(self.points, indices, axis=0)\n",
        "    #finds the closest point in the pointcloud. returns \"None\" if the pointcloud is empty\n",
        "    def find_closest_point(self, point):\n",
        "        if len(self.points) == 0:\n",
        "             return None\n",
        "        point = numpy.array(point)\n",
        "        if point.shape != (3,):\n",
        "             #if value is invalid\n",
        "             raise ValueError(\"Invalid\")\n",
        "        distances = numpy.sqrt(np.sum((self.points - point)**2, axis=1))\n",
        "        closest_index = math.sqrt(x**2 + y**2 + z**2)\n",
        "        return self.points[closest_index], closest_index\n",
        "    #returns the number of points in the point cloud\n",
        "    def __len__(self):\n",
        "        return len(self.points)\n",
        "    #returns a string that represents the point cloud\n",
        "    def __str__(self):\n",
        "        return f\"PointCloud with {len(self.points)} points:\\n{self.points}\"\n",
        "\n",
        "print(\"Hello, World\")\n",
        "\"\"\"I don't know if the formatting is different, but when I left one indetation where\n",
        " it corresponds, it produced an error, but if I left two indentations, it worked.\n",
        " Also, I don't know if it's supposed to print anything out when it responds. I wanted\n",
        " to check if the notebook was working so I printed Hello, World, just to make sure\n",
        " every time.\"\"\""
      ],
      "metadata": {
        "colab": {
          "base_uri": "https://localhost:8080/",
          "height": 89
        },
        "id": "0yl75j7VG8oj",
        "outputId": "101251e2-1fd9-404f-b066-5e4e9ce5406f"
      },
      "execution_count": 90,
      "outputs": [
        {
          "output_type": "stream",
          "name": "stdout",
          "text": [
            "Hello, World\n"
          ]
        },
        {
          "output_type": "execute_result",
          "data": {
            "text/plain": [
              "\"I don't know if the formatting is different, but when I left one indetation where\\n it corresponds, it produced an error, but if I left two indentations, it worked.\\n Also, I don't know if it's supposed to print anything out when it responds. I wanted\\n to check if the notebook was working so I printed Hello, World, just to make sure \\n every time.\""
            ],
            "application/vnd.google.colaboratory.intrinsic+json": {
              "type": "string"
            }
          },
          "metadata": {},
          "execution_count": 90
        }
      ]
    }
  ]
}